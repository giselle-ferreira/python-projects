{
 "cells": [
  {
   "cell_type": "markdown",
   "id": "a4140885",
   "metadata": {},
   "source": [
    "# Passos do problema\n",
    "\n",
    "- 1 - Buscar dados das ações automaticamente\n",
    "- 2 - Realizar as análises solicitadas pelo gestor\n",
    "- 3 - Enviar email automaticamente com resultado da análise"
   ]
  },
  {
   "cell_type": "markdown",
   "id": "08228a16",
   "metadata": {},
   "source": [
    "## Passo 1"
   ]
  },
  {
   "cell_type": "code",
   "execution_count": 1,
   "id": "b9f2648e",
   "metadata": {},
   "outputs": [
    {
     "name": "stdout",
     "output_type": "stream",
     "text": [
      "Collecting yfinance\n",
      "  Downloading yfinance-0.2.18-py2.py3-none-any.whl (60 kB)\n",
      "     ---------------------------------------- 60.3/60.3 kB ? eta 0:00:00\n",
      "Requirement already satisfied: lxml>=4.9.1 in c:\\users\\giselle\\anaconda3\\lib\\site-packages (from yfinance) (4.9.1)\n",
      "Requirement already satisfied: beautifulsoup4>=4.11.1 in c:\\users\\giselle\\anaconda3\\lib\\site-packages (from yfinance) (4.11.1)\n",
      "Collecting html5lib>=1.1\n",
      "  Downloading html5lib-1.1-py2.py3-none-any.whl (112 kB)\n",
      "     ---------------------------------------- 112.2/112.2 kB ? eta 0:00:00\n",
      "Collecting frozendict>=2.3.4\n",
      "  Downloading frozendict-2.3.8-cp310-cp310-win_amd64.whl (35 kB)\n",
      "Requirement already satisfied: numpy>=1.16.5 in c:\\users\\giselle\\anaconda3\\lib\\site-packages (from yfinance) (1.23.5)\n",
      "Requirement already satisfied: pandas>=1.3.0 in c:\\users\\giselle\\anaconda3\\lib\\site-packages (from yfinance) (1.5.3)\n",
      "Requirement already satisfied: cryptography>=3.3.2 in c:\\users\\giselle\\anaconda3\\lib\\site-packages (from yfinance) (39.0.1)\n",
      "Collecting multitasking>=0.0.7\n",
      "  Downloading multitasking-0.0.11-py3-none-any.whl (8.5 kB)\n",
      "Requirement already satisfied: pytz>=2022.5 in c:\\users\\giselle\\anaconda3\\lib\\site-packages (from yfinance) (2022.7)\n",
      "Requirement already satisfied: requests>=2.26 in c:\\users\\giselle\\anaconda3\\lib\\site-packages (from yfinance) (2.28.1)\n",
      "Requirement already satisfied: appdirs>=1.4.4 in c:\\users\\giselle\\anaconda3\\lib\\site-packages (from yfinance) (1.4.4)\n",
      "Requirement already satisfied: soupsieve>1.2 in c:\\users\\giselle\\anaconda3\\lib\\site-packages (from beautifulsoup4>=4.11.1->yfinance) (2.3.2.post1)\n",
      "Requirement already satisfied: cffi>=1.12 in c:\\users\\giselle\\anaconda3\\lib\\site-packages (from cryptography>=3.3.2->yfinance) (1.15.1)\n",
      "Requirement already satisfied: webencodings in c:\\users\\giselle\\anaconda3\\lib\\site-packages (from html5lib>=1.1->yfinance) (0.5.1)\n",
      "Requirement already satisfied: six>=1.9 in c:\\users\\giselle\\anaconda3\\lib\\site-packages (from html5lib>=1.1->yfinance) (1.16.0)\n",
      "Requirement already satisfied: python-dateutil>=2.8.1 in c:\\users\\giselle\\anaconda3\\lib\\site-packages (from pandas>=1.3.0->yfinance) (2.8.2)\n",
      "Requirement already satisfied: urllib3<1.27,>=1.21.1 in c:\\users\\giselle\\anaconda3\\lib\\site-packages (from requests>=2.26->yfinance) (1.26.14)\n",
      "Requirement already satisfied: charset-normalizer<3,>=2 in c:\\users\\giselle\\anaconda3\\lib\\site-packages (from requests>=2.26->yfinance) (2.0.4)\n",
      "Requirement already satisfied: certifi>=2017.4.17 in c:\\users\\giselle\\anaconda3\\lib\\site-packages (from requests>=2.26->yfinance) (2022.12.7)\n",
      "Requirement already satisfied: idna<4,>=2.5 in c:\\users\\giselle\\anaconda3\\lib\\site-packages (from requests>=2.26->yfinance) (3.4)\n",
      "Requirement already satisfied: pycparser in c:\\users\\giselle\\anaconda3\\lib\\site-packages (from cffi>=1.12->cryptography>=3.3.2->yfinance) (2.21)\n",
      "Installing collected packages: multitasking, html5lib, frozendict, yfinance\n",
      "Successfully installed frozendict-2.3.8 html5lib-1.1 multitasking-0.0.11 yfinance-0.2.18\n"
     ]
    }
   ],
   "source": [
    "!pip install yfinance"
   ]
  },
  {
   "cell_type": "code",
   "execution_count": 49,
   "id": "95d495c5",
   "metadata": {},
   "outputs": [
    {
     "name": "stdout",
     "output_type": "stream",
     "text": [
      "Digite o código da ação: BBAS3.SA\n"
     ]
    },
    {
     "data": {
      "text/plain": [
       "Date\n",
       "2022-12-02 00:00:00-03:00    34.131870\n",
       "2022-12-05 00:00:00-03:00    33.345600\n",
       "2022-12-06 00:00:00-03:00    33.686634\n",
       "2022-12-07 00:00:00-03:00    33.610844\n",
       "2022-12-08 00:00:00-03:00    33.184555\n",
       "                               ...    \n",
       "2023-05-29 00:00:00-03:00    43.671722\n",
       "2023-05-30 00:00:00-03:00    44.046165\n",
       "2023-05-31 00:00:00-03:00    43.967335\n",
       "2023-06-01 00:00:00-03:00    44.085583\n",
       "2023-06-02 00:00:00-03:00    44.740002\n",
       "Name: Close, Length: 125, dtype: float64"
      ]
     },
     "execution_count": 49,
     "metadata": {},
     "output_type": "execute_result"
    }
   ],
   "source": [
    "import yfinance as yf\n",
    "\n",
    "ticker = input(\"Digite o código da ação: \")\n",
    "dados = yf.Ticker(ticker).history(\"6mo\")\n",
    "fechamento = dados.Close\n",
    "#fechamento.plot()\n",
    "fechamento"
   ]
  },
  {
   "cell_type": "markdown",
   "id": "f76f1ec7",
   "metadata": {},
   "source": [
    "## Passo 2\n",
    "- Cotação Máxima\n",
    "- Cotação Mínima\n",
    "- Cotação Atual"
   ]
  },
  {
   "cell_type": "code",
   "execution_count": 50,
   "id": "a17363f1",
   "metadata": {},
   "outputs": [
    {
     "name": "stdout",
     "output_type": "stream",
     "text": [
      "29.74\n",
      "44.74\n",
      "44.74\n"
     ]
    }
   ],
   "source": [
    "minima = round(fechamento.min(), 2)\n",
    "maxima = round(fechamento.max(), 2)\n",
    "atual = round(fechamento[-1], 2)\n",
    "\n",
    "print(minima)\n",
    "print(maxima)\n",
    "print(atual)"
   ]
  },
  {
   "cell_type": "markdown",
   "id": "8f9da7d0",
   "metadata": {},
   "source": [
    "## Passo 3\n",
    "- Abrir uma nova aba (ctrl  t)\n",
    "- digitar www.gmail.com e dar um enter\n",
    "- Clicar no botão escrever\n",
    "- Digitar o destinatário, dar um tab\n",
    "- Digitar um assunto, dar um tab\n",
    "- Preencher o corpo do email\n",
    "- Clicar no botão enviar"
   ]
  },
  {
   "cell_type": "code",
   "execution_count": 24,
   "id": "f4788811",
   "metadata": {},
   "outputs": [
    {
     "name": "stdout",
     "output_type": "stream",
     "text": [
      "Requirement already satisfied: pyautogui in c:\\users\\giselle\\anaconda3\\lib\\site-packages (0.9.54)\n",
      "Requirement already satisfied: pymsgbox in c:\\users\\giselle\\anaconda3\\lib\\site-packages (from pyautogui) (1.0.9)\n",
      "Requirement already satisfied: mouseinfo in c:\\users\\giselle\\anaconda3\\lib\\site-packages (from pyautogui) (0.1.3)\n",
      "Requirement already satisfied: pygetwindow>=0.0.5 in c:\\users\\giselle\\anaconda3\\lib\\site-packages (from pyautogui) (0.0.9)\n",
      "Requirement already satisfied: pyscreeze>=0.1.21 in c:\\users\\giselle\\anaconda3\\lib\\site-packages (from pyautogui) (0.1.29)\n",
      "Requirement already satisfied: pytweening>=1.0.4 in c:\\users\\giselle\\anaconda3\\lib\\site-packages (from pyautogui) (1.0.7)\n",
      "Requirement already satisfied: pyrect in c:\\users\\giselle\\anaconda3\\lib\\site-packages (from pygetwindow>=0.0.5->pyautogui) (0.2.0)\n",
      "Requirement already satisfied: pyscreenshot in c:\\users\\giselle\\anaconda3\\lib\\site-packages (from pyscreeze>=0.1.21->pyautogui) (3.1)\n",
      "Requirement already satisfied: Pillow>=9.2.0 in c:\\users\\giselle\\anaconda3\\lib\\site-packages (from pyscreeze>=0.1.21->pyautogui) (9.4.0)\n",
      "Requirement already satisfied: pyperclip in c:\\users\\giselle\\anaconda3\\lib\\site-packages (from mouseinfo->pyautogui) (1.8.2)\n",
      "Requirement already satisfied: mss in c:\\users\\giselle\\anaconda3\\lib\\site-packages (from pyscreenshot->pyscreeze>=0.1.21->pyautogui) (9.0.1)\n",
      "Requirement already satisfied: EasyProcess in c:\\users\\giselle\\anaconda3\\lib\\site-packages (from pyscreenshot->pyscreeze>=0.1.21->pyautogui) (1.1)\n",
      "Requirement already satisfied: entrypoint2 in c:\\users\\giselle\\anaconda3\\lib\\site-packages (from pyscreenshot->pyscreeze>=0.1.21->pyautogui) (1.1)\n"
     ]
    }
   ],
   "source": [
    "!pip install pyautogui"
   ]
  },
  {
   "cell_type": "code",
   "execution_count": 26,
   "id": "f5f76452",
   "metadata": {},
   "outputs": [],
   "source": [
    "import pyautogui as pag"
   ]
  },
  {
   "cell_type": "code",
   "execution_count": 27,
   "id": "a94c016d",
   "metadata": {},
   "outputs": [
    {
     "name": "stdout",
     "output_type": "stream",
     "text": [
      "Requirement already satisfied: pyperclip in c:\\users\\giselle\\anaconda3\\lib\\site-packages (1.8.2)\n"
     ]
    }
   ],
   "source": [
    "!pip install pyperclip"
   ]
  },
  {
   "cell_type": "code",
   "execution_count": 28,
   "id": "8af42276",
   "metadata": {},
   "outputs": [],
   "source": [
    "import pyperclip as ppc"
   ]
  },
  {
   "cell_type": "code",
   "execution_count": 51,
   "id": "6f3a6cb8",
   "metadata": {},
   "outputs": [
    {
     "name": "stdout",
     "output_type": "stream",
     "text": [
      "Email enviado com sucesso!\n"
     ]
    }
   ],
   "source": [
    "import time\n",
    "\n",
    "# dar uma pausa de 2s\n",
    "pag.PAUSE = 3\n",
    "\n",
    "# abre nova aba\n",
    "pag.hotkey(\"ctrl\", \"t\")\n",
    "\n",
    "# digitar gmail e dar enter\n",
    "ppc.copy(\"www.gmail.com\")\n",
    "pag.hotkey(\"ctrl\", \"v\")\n",
    "pag.hotkey(\"enter\")\n",
    "\n",
    "# clicar no botão escrever\n",
    "time.sleep(3)\n",
    "pag.click(x=82, y=165)\n",
    "\n",
    "# digitar o destinatário\n",
    "time.sleep(2)\n",
    "ppc.copy(\"giselle.fs@gmail.com\")\n",
    "pag.hotkey(\"ctrl\", \"v\")\n",
    "pag.hotkey(\"tab\")\n",
    "\n",
    "# digitar o assunto\n",
    "ppc.copy(\"Análises diárias\")\n",
    "pag.hotkey(\"ctrl\", \"v\")\n",
    "pag.hotkey(\"tab\")\n",
    "\n",
    "# preencher o corpo do email\n",
    "mensagem = f\"\"\"\n",
    "Prezado Gestor,\n",
    "\n",
    "Seguem análises dos últimos 6 meses da ação {ticker}:\n",
    "\n",
    "- Cotação Máxima: R$ {maxima}\n",
    "- Cotação Mínima: R$ {minima}\n",
    "- Cotação Atual: R$ {atual}\n",
    "\n",
    "Qualquer dúvida, fico à disposição.\n",
    "\n",
    "Atenciosamente,\n",
    "\n",
    "\"\"\"\n",
    "\n",
    "ppc.copy(mensagem)\n",
    "pag.hotkey(\"ctrl\", \"v\")\n",
    "\n",
    "pag.click(x=1946, y=996)\n",
    "print(\"Email enviado com sucesso!\")"
   ]
  },
  {
   "cell_type": "code",
   "execution_count": null,
   "id": "1530cf39",
   "metadata": {},
   "outputs": [],
   "source": []
  },
  {
   "cell_type": "code",
   "execution_count": 48,
   "id": "44c3a7de",
   "metadata": {},
   "outputs": [
    {
     "data": {
      "text/plain": [
       "Point(x=1946, y=996)"
      ]
     },
     "execution_count": 48,
     "metadata": {},
     "output_type": "execute_result"
    }
   ],
   "source": [
    "import time\n",
    "\n",
    "time.sleep(5)\n",
    "pag.position()"
   ]
  },
  {
   "cell_type": "code",
   "execution_count": null,
   "id": "f6b4043d",
   "metadata": {},
   "outputs": [],
   "source": []
  }
 ],
 "metadata": {
  "kernelspec": {
   "display_name": "Python 3 (ipykernel)",
   "language": "python",
   "name": "python3"
  },
  "language_info": {
   "codemirror_mode": {
    "name": "ipython",
    "version": 3
   },
   "file_extension": ".py",
   "mimetype": "text/x-python",
   "name": "python",
   "nbconvert_exporter": "python",
   "pygments_lexer": "ipython3",
   "version": "3.10.9"
  }
 },
 "nbformat": 4,
 "nbformat_minor": 5
}
